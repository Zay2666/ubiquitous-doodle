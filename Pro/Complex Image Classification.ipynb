{
  "nbformat": 4,
  "nbformat_minor": 0,
  "metadata": {
    "colab": {
      "provenance": []
    },
    "kernelspec": {
      "name": "python3",
      "display_name": "Python 3"
    },
    "language_info": {
      "name": "python"
    }
  },
  "cells": [
    {
      "cell_type": "markdown",
      "source": [
        "**Handwritten Digits**\n"
      ],
      "metadata": {
        "id": "BDB5HKXz0Cr5"
      }
    },
    {
      "cell_type": "markdown",
      "source": [
        "**Step 1. Import and description of the data set**"
      ],
      "metadata": {
        "id": "cZ-tMfLK0NS4"
      }
    },
    {
      "cell_type": "code",
      "source": [
        "import numpy as np\n",
        "import pandas as pd\n",
        "from sklearn.model_selection import train_test_split\n",
        "from google.colab import drive\n",
        "\n",
        "drive.mount('/content/drive')\n",
        "\n",
        "data_path = '/content/drive/MyDrive/digit-recognizer/'\n",
        "train_df = pd.read_csv(data_path + 'train.csv')\n",
        "test_df = pd.read_csv(data_path + 'test.csv')\n",
        "\n",
        "print(train_df.head())\n",
        "print(test_df.head())\n",
        "\n",
        "X = train_df.drop(columns=['label']).values\n",
        "y = train_df['label'].values\n",
        "\n",
        "\n",
        "X = X / 255.0\n",
        "\n",
        "X_train, X_test, y_train, y_test = train_test_split(X, y, test_size=0.2, random_state=42)\n",
        "\n",
        "\n",
        "print(f'Training data shape: {X_train.shape}')\n",
        "print(f'Test data shape: {X_test.shape}')\n",
        "print(f'Training labels shape: {y_train.shape}')\n",
        "print(f'Test labels shape: {y_test.shape}')"
      ],
      "metadata": {
        "colab": {
          "base_uri": "https://localhost:8080/"
        },
        "id": "kuKeji8o1Tsu",
        "outputId": "043f18e2-ef0a-43f4-8329-43c4ca0d4fc1"
      },
      "execution_count": 1,
      "outputs": [
        {
          "output_type": "stream",
          "name": "stdout",
          "text": [
            "Mounted at /content/drive\n",
            "   label  pixel0  pixel1  pixel2  pixel3  pixel4  pixel5  pixel6  pixel7  \\\n",
            "0      1       0       0       0       0       0       0       0       0   \n",
            "1      0       0       0       0       0       0       0       0       0   \n",
            "2      1       0       0       0       0       0       0       0       0   \n",
            "3      4       0       0       0       0       0       0       0       0   \n",
            "4      0       0       0       0       0       0       0       0       0   \n",
            "\n",
            "   pixel8  ...  pixel774  pixel775  pixel776  pixel777  pixel778  pixel779  \\\n",
            "0       0  ...         0         0         0         0         0         0   \n",
            "1       0  ...         0         0         0         0         0         0   \n",
            "2       0  ...         0         0         0         0         0         0   \n",
            "3       0  ...         0         0         0         0         0         0   \n",
            "4       0  ...         0         0         0         0         0         0   \n",
            "\n",
            "   pixel780  pixel781  pixel782  pixel783  \n",
            "0         0         0         0         0  \n",
            "1         0         0         0         0  \n",
            "2         0         0         0         0  \n",
            "3         0         0         0         0  \n",
            "4         0         0         0         0  \n",
            "\n",
            "[5 rows x 785 columns]\n",
            "   pixel0  pixel1  pixel2  pixel3  pixel4  pixel5  pixel6  pixel7  pixel8  \\\n",
            "0       0       0       0       0       0       0       0       0       0   \n",
            "1       0       0       0       0       0       0       0       0       0   \n",
            "2       0       0       0       0       0       0       0       0       0   \n",
            "3       0       0       0       0       0       0       0       0       0   \n",
            "4       0       0       0       0       0       0       0       0       0   \n",
            "\n",
            "   pixel9  ...  pixel774  pixel775  pixel776  pixel777  pixel778  pixel779  \\\n",
            "0       0  ...         0         0         0         0         0         0   \n",
            "1       0  ...         0         0         0         0         0         0   \n",
            "2       0  ...         0         0         0         0         0         0   \n",
            "3       0  ...         0         0         0         0         0         0   \n",
            "4       0  ...         0         0         0         0         0         0   \n",
            "\n",
            "   pixel780  pixel781  pixel782  pixel783  \n",
            "0         0         0         0         0  \n",
            "1         0         0         0         0  \n",
            "2         0         0         0         0  \n",
            "3         0         0         0         0  \n",
            "4         0         0         0         0  \n",
            "\n",
            "[5 rows x 784 columns]\n",
            "Training data shape: (33600, 784)\n",
            "Test data shape: (8400, 784)\n",
            "Training labels shape: (33600,)\n",
            "Test labels shape: (8400,)\n"
          ]
        }
      ]
    },
    {
      "cell_type": "markdown",
      "source": [
        "**Step 2: Model Building and Training**\n",
        "\n",
        "\t•\tTask Description:\n",
        "\t•\tBuild a Logistic Regression model.\n",
        "\t•\tTrain the Logistic Regression model.\n",
        "\t•\tBuild a simple CNN model, including convolutional layers, pooling layers, and fully connected layers.\n",
        "\t•\tTrain the CNN model."
      ],
      "metadata": {
        "id": "vIQfC3Sh1uMb"
      }
    },
    {
      "cell_type": "markdown",
      "source": [
        "Logistic Regression Model"
      ],
      "metadata": {
        "id": "M5lLbBad107J"
      }
    },
    {
      "cell_type": "code",
      "source": [
        "from sklearn.linear_model import LogisticRegression\n",
        "from sklearn.metrics import accuracy_score, classification_report\n",
        "\n",
        "# Build Logistic Regression model\n",
        "log_reg_model = LogisticRegression(max_iter=1000)\n",
        "\n",
        "# Train the model\n",
        "log_reg_model.fit(X_train, y_train)\n",
        "\n",
        "# Predict on the test set\n",
        "y_pred = log_reg_model.predict(X_test)\n",
        "\n",
        "# Evaluate the model\n",
        "accuracy = accuracy_score(y_test, y_pred)\n",
        "print(f'Logistic Regression Accuracy: {accuracy}')\n",
        "print(classification_report(y_test, y_pred))"
      ],
      "metadata": {
        "colab": {
          "base_uri": "https://localhost:8080/"
        },
        "id": "xi25jVxm11aS",
        "outputId": "181cf848-dace-4f80-dd45-ad0d0ec28d14"
      },
      "execution_count": 2,
      "outputs": [
        {
          "output_type": "stream",
          "name": "stdout",
          "text": [
            "Logistic Regression Accuracy: 0.9189285714285714\n",
            "              precision    recall  f1-score   support\n",
            "\n",
            "           0       0.96      0.96      0.96       816\n",
            "           1       0.96      0.98      0.97       909\n",
            "           2       0.91      0.89      0.90       846\n",
            "           3       0.91      0.87      0.89       937\n",
            "           4       0.92      0.93      0.93       839\n",
            "           5       0.85      0.88      0.87       702\n",
            "           6       0.93      0.96      0.94       785\n",
            "           7       0.93      0.92      0.93       893\n",
            "           8       0.90      0.88      0.89       835\n",
            "           9       0.91      0.90      0.91       838\n",
            "\n",
            "    accuracy                           0.92      8400\n",
            "   macro avg       0.92      0.92      0.92      8400\n",
            "weighted avg       0.92      0.92      0.92      8400\n",
            "\n"
          ]
        }
      ]
    },
    {
      "cell_type": "markdown",
      "source": [
        "\n",
        "\n",
        "Accuracy: The Logistic Regression model achieved an accuracy of approximately 91.89%. This indicates that the model is performing well in classifying the handwritten digits.\n",
        "\n",
        "\n",
        "Precision, Recall, F1-Score: The precision, recall, and F1-scores are relatively high for all classes, suggesting that the model is balanced in its performance across different digit classes.\n",
        "\n",
        "\n",
        "\n",
        "\n",
        "  Support: The number of samples for each class is almost equal, which contributes to the balanced performance of the model."
      ],
      "metadata": {
        "id": "HaysdDzg5hHx"
      }
    },
    {
      "cell_type": "markdown",
      "source": [
        "Simple CNN Model"
      ],
      "metadata": {
        "id": "HHc5sZzg2i5H"
      }
    },
    {
      "cell_type": "code",
      "source": [
        "import tensorflow as tf\n",
        "from tensorflow.keras.models import Sequential\n",
        "from tensorflow.keras.layers import Conv2D, MaxPooling2D, Flatten, Dense\n",
        "from tensorflow.keras.utils import to_categorical\n",
        "\n",
        "# Reshape the data to fit the model\n",
        "X_train_cnn = X_train.reshape(X_train.shape[0], 28, 28, 1)\n",
        "X_test_cnn = X_test.reshape(X_test.shape[0], 28, 28, 1)\n",
        "y_train_cnn = to_categorical(y_train, num_classes=10)\n",
        "y_test_cnn = to_categorical(y_test, num_classes=10)\n",
        "\n",
        "# Build the CNN model\n",
        "cnn_model = Sequential([\n",
        "    Conv2D(32, (3, 3), activation='relu', input_shape=(28, 28, 1)),\n",
        "    MaxPooling2D(pool_size=(2, 2)),\n",
        "    Conv2D(64, (3, 3), activation='relu'),\n",
        "    MaxPooling2D(pool_size=(2, 2)),\n",
        "    Flatten(),\n",
        "    Dense(128, activation='relu'),\n",
        "    Dense(10, activation='softmax')\n",
        "])\n",
        "\n",
        "# Compile the model\n",
        "cnn_model.compile(optimizer='adam', loss='categorical_crossentropy', metrics=['accuracy'])\n",
        "\n",
        "# Train the model\n",
        "cnn_model.fit(X_train_cnn, y_train_cnn, validation_data=(X_test_cnn, y_test_cnn), epochs=10, batch_size=32)\n",
        "\n",
        "# Evaluate the model\n",
        "loss, accuracy = cnn_model.evaluate(X_test_cnn, y_test_cnn)\n",
        "print(f'CNN Accuracy: {accuracy}')"
      ],
      "metadata": {
        "colab": {
          "base_uri": "https://localhost:8080/"
        },
        "id": "iE4PLS-B13Zt",
        "outputId": "3df606e4-799f-4fa9-e73c-5f901fe02215"
      },
      "execution_count": 3,
      "outputs": [
        {
          "output_type": "stream",
          "name": "stdout",
          "text": [
            "Epoch 1/10\n",
            "1050/1050 [==============================] - 38s 35ms/step - loss: 0.1845 - accuracy: 0.9433 - val_loss: 0.0757 - val_accuracy: 0.9761\n",
            "Epoch 2/10\n",
            "1050/1050 [==============================] - 37s 35ms/step - loss: 0.0588 - accuracy: 0.9813 - val_loss: 0.0568 - val_accuracy: 0.9814\n",
            "Epoch 3/10\n",
            "1050/1050 [==============================] - 37s 35ms/step - loss: 0.0401 - accuracy: 0.9874 - val_loss: 0.0484 - val_accuracy: 0.9854\n",
            "Epoch 4/10\n",
            "1050/1050 [==============================] - 34s 33ms/step - loss: 0.0300 - accuracy: 0.9906 - val_loss: 0.0489 - val_accuracy: 0.9861\n",
            "Epoch 5/10\n",
            "1050/1050 [==============================] - 35s 33ms/step - loss: 0.0230 - accuracy: 0.9925 - val_loss: 0.0460 - val_accuracy: 0.9850\n",
            "Epoch 6/10\n",
            "1050/1050 [==============================] - 35s 33ms/step - loss: 0.0176 - accuracy: 0.9938 - val_loss: 0.0444 - val_accuracy: 0.9860\n",
            "Epoch 7/10\n",
            "1050/1050 [==============================] - 41s 39ms/step - loss: 0.0131 - accuracy: 0.9956 - val_loss: 0.0442 - val_accuracy: 0.9885\n",
            "Epoch 8/10\n",
            "1050/1050 [==============================] - 36s 34ms/step - loss: 0.0111 - accuracy: 0.9964 - val_loss: 0.0412 - val_accuracy: 0.9887\n",
            "Epoch 9/10\n",
            "1050/1050 [==============================] - 34s 33ms/step - loss: 0.0088 - accuracy: 0.9974 - val_loss: 0.0393 - val_accuracy: 0.9893\n",
            "Epoch 10/10\n",
            "1050/1050 [==============================] - 34s 33ms/step - loss: 0.0078 - accuracy: 0.9976 - val_loss: 0.0381 - val_accuracy: 0.9908\n",
            "263/263 [==============================] - 2s 9ms/step - loss: 0.0381 - accuracy: 0.9908\n",
            "CNN Accuracy: 0.9908333420753479\n"
          ]
        }
      ]
    },
    {
      "cell_type": "markdown",
      "source": [
        "Accuracy: The CNN model achieved a much higher accuracy of approximately 99.08%. This demonstrates the effectiveness of CNNs in handling image classification tasks.\n",
        "\n",
        "Training and Validation Loss: The training and validation loss decrease steadily over the epochs, indicating that the model is learning well and not overfitting.\n",
        "\n",
        "Training and Validation Accuracy: Both training and validation accuracy are very high, further confirming the strong performance of the CNN model."
      ],
      "metadata": {
        "id": "NelOFcse53MG"
      }
    },
    {
      "cell_type": "markdown",
      "source": [
        "**Step.3 Model Evaluation**"
      ],
      "metadata": {
        "id": "clLUwep_6AzA"
      }
    },
    {
      "cell_type": "markdown",
      "source": [
        "Logistic Regression Model Evaluation"
      ],
      "metadata": {
        "id": "4e77owlc6Np4"
      }
    },
    {
      "cell_type": "code",
      "source": [
        "from sklearn.metrics import confusion_matrix, ConfusionMatrixDisplay\n",
        "\n",
        "# Evaluate Logistic Regression model\n",
        "log_reg_accuracy = accuracy_score(y_test, y_pred)\n",
        "log_reg_cm = confusion_matrix(y_test, y_pred)\n",
        "\n",
        "print(f'Logistic Regression Accuracy: {log_reg_accuracy}')\n",
        "ConfusionMatrixDisplay(confusion_matrix=log_reg_cm).plot()"
      ],
      "metadata": {
        "colab": {
          "base_uri": "https://localhost:8080/",
          "height": 484
        },
        "id": "WoDQnarc6OM1",
        "outputId": "99368d2c-a026-4fde-bc95-07c8dacf147f"
      },
      "execution_count": 4,
      "outputs": [
        {
          "output_type": "stream",
          "name": "stdout",
          "text": [
            "Logistic Regression Accuracy: 0.9189285714285714\n"
          ]
        },
        {
          "output_type": "execute_result",
          "data": {
            "text/plain": [
              "<sklearn.metrics._plot.confusion_matrix.ConfusionMatrixDisplay at 0x78cd4e18b370>"
            ]
          },
          "metadata": {},
          "execution_count": 4
        },
        {
          "output_type": "display_data",
          "data": {
            "text/plain": [
              "<Figure size 640x480 with 2 Axes>"
            ],
            "image/png": "[encoded data removed]"
          },
          "metadata": {}
        }
      ]
    },
    {
      "cell_type": "markdown",
      "source": [
        "The accuracy of the Logistic Regression model is approximately 91.89%, which is quite high for a linear model. The precision, recall, and F1-score for most digits are also relatively high, indicating that the model performs well in distinguishing between different digits. The confusion matrix shows that the model makes some errors in classifying certain digits, but overall, it is effective."
      ],
      "metadata": {
        "id": "KHB4A19r9wo9"
      }
    },
    {
      "cell_type": "markdown",
      "source": [
        "CNN Model Evaluation"
      ],
      "metadata": {
        "id": "EkaJaUCP6iMc"
      }
    },
    {
      "cell_type": "code",
      "source": [
        "# Import necessary libraries\n",
        "import matplotlib.pyplot as plt\n",
        "from tensorflow.keras.preprocessing.image import ImageDataGenerator\n",
        "from tensorflow.keras.utils import to_categorical\n",
        "from sklearn.model_selection import train_test_split\n",
        "\n",
        "\n",
        "# Data Augmentation\n",
        "datagen = ImageDataGenerator(\n",
        "    rotation_range=20,\n",
        "    width_shift_range=0.2,\n",
        "    height_shift_range=0.2,\n",
        "    horizontal_flip=True\n",
        ")\n",
        "\n",
        "# Fit the data generator on training data\n",
        "datagen.fit(X_train_cnn)\n",
        "\n",
        "# Train the CNN model\n",
        "history = cnn_model.fit(\n",
        "    datagen.flow(X_train_cnn, y_train_cnn, batch_size=32),\n",
        "    validation_data=(X_test_cnn, y_test_cnn),\n",
        "    epochs=10\n",
        ")\n",
        "\n",
        "# Evaluate CNN model\n",
        "cnn_loss, cnn_accuracy = cnn_model.evaluate(X_test_cnn, y_test_cnn)\n",
        "print(f'CNN Accuracy: {cnn_accuracy}')\n",
        "\n",
        "# Plotting the training and validation loss\n",
        "plt.figure(figsize=(12, 4))\n",
        "plt.subplot(1, 2, 1)\n",
        "plt.plot(history.history['loss'], label='Training Loss')\n",
        "plt.plot(history.history['val_loss'], label='Validation Loss')\n",
        "plt.title('Loss')\n",
        "plt.xlabel('Epochs')\n",
        "plt.ylabel('Loss')\n",
        "plt.legend()\n",
        "\n",
        "# Plotting the training and validation accuracy\n",
        "plt.subplot(1, 2, 2)\n",
        "plt.plot(history.history['accuracy'], label='Training Accuracy')\n",
        "plt.plot(history.history['val_accuracy'], label='Validation Accuracy')\n",
        "plt.title('Accuracy')\n",
        "plt.xlabel('Epochs')\n",
        "plt.ylabel('Accuracy')\n",
        "plt.legend()\n",
        "\n",
        "plt.show()"
      ],
      "metadata": {
        "colab": {
          "base_uri": "https://localhost:8080/",
          "height": 792
        },
        "id": "uYJ1i9VF6Rzh",
        "outputId": "01ad8e05-ca2b-4700-da4d-6eb10251b57e"
      },
      "execution_count": 7,
      "outputs": [
        {
          "output_type": "stream",
          "name": "stdout",
          "text": [
            "Epoch 1/10\n",
            "1050/1050 [==============================] - 48s 45ms/step - loss: 0.6435 - accuracy: 0.7935 - val_loss: 0.1263 - val_accuracy: 0.9583\n",
            "Epoch 2/10\n",
            "1050/1050 [==============================] - 54s 51ms/step - loss: 0.2929 - accuracy: 0.9081 - val_loss: 0.1066 - val_accuracy: 0.9646\n",
            "Epoch 3/10\n",
            "1050/1050 [==============================] - 43s 41ms/step - loss: 0.2347 - accuracy: 0.9283 - val_loss: 0.0899 - val_accuracy: 0.9689\n",
            "Epoch 4/10\n",
            "1050/1050 [==============================] - 51s 48ms/step - loss: 0.1970 - accuracy: 0.9369 - val_loss: 0.0870 - val_accuracy: 0.9720\n",
            "Epoch 5/10\n",
            "1050/1050 [==============================] - 45s 43ms/step - loss: 0.1823 - accuracy: 0.9440 - val_loss: 0.0837 - val_accuracy: 0.9723\n",
            "Epoch 6/10\n",
            "1050/1050 [==============================] - 44s 42ms/step - loss: 0.1736 - accuracy: 0.9455 - val_loss: 0.0890 - val_accuracy: 0.9705\n",
            "Epoch 7/10\n",
            "1050/1050 [==============================] - 43s 41ms/step - loss: 0.1593 - accuracy: 0.9485 - val_loss: 0.0906 - val_accuracy: 0.9714\n",
            "Epoch 8/10\n",
            "1050/1050 [==============================] - 45s 43ms/step - loss: 0.1504 - accuracy: 0.9518 - val_loss: 0.0949 - val_accuracy: 0.9696\n",
            "Epoch 9/10\n",
            "1050/1050 [==============================] - 47s 44ms/step - loss: 0.1453 - accuracy: 0.9541 - val_loss: 0.0832 - val_accuracy: 0.9737\n",
            "Epoch 10/10\n",
            "1050/1050 [==============================] - 45s 43ms/step - loss: 0.1409 - accuracy: 0.9563 - val_loss: 0.0717 - val_accuracy: 0.9770\n",
            "263/263 [==============================] - 2s 8ms/step - loss: 0.0717 - accuracy: 0.9770\n",
            "CNN Accuracy: 0.9770237803459167\n"
          ]
        },
        {
          "output_type": "display_data",
          "data": {
            "text/plain": [
              "<Figure size 1200x400 with 2 Axes>"
            ],
            "image/png": "[encoded data removed]"
          },
          "metadata": {}
        }
      ]
    },
    {
      "cell_type": "markdown",
      "source": [
        "The CNN model, as expected, outperforms the Logistic Regression model with an accuracy of approximately 97.70%. The training and validation accuracy graphs show that the model converges well, with both training and validation accuracy improving over epochs. The loss graphs indicate that the model’s loss decreases steadily during training, which is a good sign of effective learning. The CNN’s higher accuracy and better performance metrics highlight its strength in handling image data due to its ability to capture spatial hierarchies in the data."
      ],
      "metadata": {
        "id": "lCP1FvPs9187"
      }
    },
    {
      "cell_type": "markdown",
      "source": [
        "**Dog breed identification**"
      ],
      "metadata": {
        "id": "gWGdktLI96vc"
      }
    },
    {
      "cell_type": "markdown",
      "source": [
        "**Step 1 Data Import**"
      ],
      "metadata": {
        "id": "dRRn7Xkg-A-a"
      }
    },
    {
      "cell_type": "code",
      "source": [
        "# Install Kaggle API\n",
        "!pip install kaggle\n",
        "\n",
        "# Upload kaggle.json file\n",
        "from google.colab import files\n",
        "files.upload()\n",
        "\n",
        "# Configure Kaggle API\n",
        "!mkdir -p ~/.kaggle\n",
        "!cp kaggle.json ~/.kaggle/\n",
        "!chmod 600 ~/.kaggle/kaggle.json\n",
        "\n",
        "# Download dataset from Kaggle\n",
        "!kaggle competitions download -c dog-breed-identification\n",
        "\n",
        "# Unzip dataset\n",
        "!unzip -q dog-breed-identification.zip -d /content/dog-breed-identification\n",
        "\n"
      ],
      "metadata": {
        "colab": {
          "base_uri": "https://localhost:8080/",
          "height": 545
        },
        "id": "JeA4tarq-jsM",
        "outputId": "a42fd673-6d04-4b48-9050-5dcc96fcbb09"
      },
      "execution_count": 10,
      "outputs": [
        {
          "output_type": "stream",
          "name": "stdout",
          "text": [
            "Requirement already satisfied: kaggle in /usr/local/lib/python3.10/dist-packages (1.6.14)\n",
            "Requirement already satisfied: six>=1.10 in /usr/local/lib/python3.10/dist-packages (from kaggle) (1.16.0)\n",
            "Requirement already satisfied: certifi>=2023.7.22 in /usr/local/lib/python3.10/dist-packages (from kaggle) (2024.6.2)\n",
            "Requirement already satisfied: python-dateutil in /usr/local/lib/python3.10/dist-packages (from kaggle) (2.8.2)\n",
            "Requirement already satisfied: requests in /usr/local/lib/python3.10/dist-packages (from kaggle) (2.31.0)\n",
            "Requirement already satisfied: tqdm in /usr/local/lib/python3.10/dist-packages (from kaggle) (4.66.4)\n",
            "Requirement already satisfied: python-slugify in /usr/local/lib/python3.10/dist-packages (from kaggle) (8.0.4)\n",
            "Requirement already satisfied: urllib3 in /usr/local/lib/python3.10/dist-packages (from kaggle) (2.0.7)\n",
            "Requirement already satisfied: bleach in /usr/local/lib/python3.10/dist-packages (from kaggle) (6.1.0)\n",
            "Requirement already satisfied: webencodings in /usr/local/lib/python3.10/dist-packages (from bleach->kaggle) (0.5.1)\n",
            "Requirement already satisfied: text-unidecode>=1.3 in /usr/local/lib/python3.10/dist-packages (from python-slugify->kaggle) (1.3)\n",
            "Requirement already satisfied: charset-normalizer<4,>=2 in /usr/local/lib/python3.10/dist-packages (from requests->kaggle) (3.3.2)\n",
            "Requirement already satisfied: idna<4,>=2.5 in /usr/local/lib/python3.10/dist-packages (from requests->kaggle) (3.7)\n"
          ]
        },
        {
          "output_type": "display_data",
          "data": {
            "text/plain": [
              "<IPython.core.display.HTML object>"
            ],
            "text/html": [
              "\n",
              "     <input type=\"file\" id=\"files-d783e1c7-3ace-41ce-89cf-c4f74b6046a7\" name=\"files[]\" multiple disabled\n",
              "        style=\"border:none\" />\n",
              "     <output id=\"result-d783e1c7-3ace-41ce-89cf-c4f74b6046a7\">\n",
              "      Upload widget is only available when the cell has been executed in the\n",
              "      current browser session. Please rerun this cell to enable.\n",
              "      </output>\n",
              "      <script>// Copyright 2017 Google LLC\n",
              "//\n",
              "// Licensed under the Apache License, Version 2.0 (the \"License\");\n",
              "// you may not use this file except in compliance with the License.\n",
              "// You may obtain a copy of the License at\n",
              "//\n",
              "//      http://www.apache.org/licenses/LICENSE-2.0\n",
              "//\n",
              "// Unless required by applicable law or agreed to in writing, software\n",
              "// distributed under the License is distributed on an \"AS IS\" BASIS,\n",
              "// WITHOUT WARRANTIES OR CONDITIONS OF ANY KIND, either express or implied.\n",
              "// See the License for the specific language governing permissions and\n",
              "// limitations under the License.\n",
              "\n",
              "/**\n",
              " * @fileoverview Helpers for google.colab Python module.\n",
              " */\n",
              "(function(scope) {\n",
              "function span(text, styleAttributes = {}) {\n",
              "  const element = document.createElement('span');\n",
              "  element.textContent = text;\n",
              "  for (const key of Object.keys(styleAttributes)) {\n",
              "    element.style[key] = styleAttributes[key];\n",
              "  }\n",
              "  return element;\n",
              "}\n",
              "\n",
              "// Max number of bytes which will be uploaded at a time.\n",
              "const MAX_PAYLOAD_SIZE = 100 * 1024;\n",
              "\n",
              "function _uploadFiles(inputId, outputId) {\n",
              "  const steps = uploadFilesStep(inputId, outputId);\n",
              "  const outputElement = document.getElementById(outputId);\n",
              "  // Cache steps on the outputElement to make it available for the next call\n",
              "  // to uploadFilesContinue from Python.\n",
              "  outputElement.steps = steps;\n",
              "\n",
              "  return _uploadFilesContinue(outputId);\n",
              "}\n",
              "\n",
              "// This is roughly an async generator (not supported in the browser yet),\n",
              "// where there are multiple asynchronous steps and the Python side is going\n",
              "// to poll for completion of each step.\n",
              "// This uses a Promise to block the python side on completion of each step,\n",
              "// then passes the result of the previous step as the input to the next step.\n",
              "function _uploadFilesContinue(outputId) {\n",
              "  const outputElement = document.getElementById(outputId);\n",
              "  const steps = outputElement.steps;\n",
              "\n",
              "  const next = steps.next(outputElement.lastPromiseValue);\n",
              "  return Promise.resolve(next.value.promise).then((value) => {\n",
              "    // Cache the last promise value to make it available to the next\n",
              "    // step of the generator.\n",
              "    outputElement.lastPromiseValue = value;\n",
              "    return next.value.response;\n",
              "  });\n",
              "}\n",
              "\n",
              "/**\n",
              " * Generator function which is called between each async step of the upload\n",
              " * process.\n",
              " * @param {string} inputId Element ID of the input file picker element.\n",
              " * @param {string} outputId Element ID of the output display.\n",
              " * @return {!Iterable<!Object>} Iterable of next steps.\n",
              " */\n",
              "function* uploadFilesStep(inputId, outputId) {\n",
              "  const inputElement = document.getElementById(inputId);\n",
              "  inputElement.disabled = false;\n",
              "\n",
              "  const outputElement = document.getElementById(outputId);\n",
              "  outputElement.innerHTML = '';\n",
              "\n",
              "  const pickedPromise = new Promise((resolve) => {\n",
              "    inputElement.addEventListener('change', (e) => {\n",
              "      resolve(e.target.files);\n",
              "    });\n",
              "  });\n",
              "\n",
              "  const cancel = document.createElement('button');\n",
              "  inputElement.parentElement.appendChild(cancel);\n",
              "  cancel.textContent = 'Cancel upload';\n",
              "  const cancelPromise = new Promise((resolve) => {\n",
              "    cancel.onclick = () => {\n",
              "      resolve(null);\n",
              "    };\n",
              "  });\n",
              "\n",
              "  // Wait for the user to pick the files.\n",
              "  const files = yield {\n",
              "    promise: Promise.race([pickedPromise, cancelPromise]),\n",
              "    response: {\n",
              "      action: 'starting',\n",
              "    }\n",
              "  };\n",
              "\n",
              "  cancel.remove();\n",
              "\n",
              "  // Disable the input element since further picks are not allowed.\n",
              "  inputElement.disabled = true;\n",
              "\n",
              "  if (!files) {\n",
              "    return {\n",
              "      response: {\n",
              "        action: 'complete',\n",
              "      }\n",
              "    };\n",
              "  }\n",
              "\n",
              "  for (const file of files) {\n",
              "    const li = document.createElement('li');\n",
              "    li.append(span(file.name, {fontWeight: 'bold'}));\n",
              "    li.append(span(\n",
              "        `(${file.type || 'n/a'}) - ${file.size} bytes, ` +\n",
              "        `last modified: ${\n",
              "            file.lastModifiedDate ? file.lastModifiedDate.toLocaleDateString() :\n",
              "                                    'n/a'} - `));\n",
              "    const percent = span('0% done');\n",
              "    li.appendChild(percent);\n",
              "\n",
              "    outputElement.appendChild(li);\n",
              "\n",
              "    const fileDataPromise = new Promise((resolve) => {\n",
              "      const reader = new FileReader();\n",
              "      reader.onload = (e) => {\n",
              "        resolve(e.target.result);\n",
              "      };\n",
              "      reader.readAsArrayBuffer(file);\n",
              "    });\n",
              "    // Wait for the data to be ready.\n",
              "    let fileData = yield {\n",
              "      promise: fileDataPromise,\n",
              "      response: {\n",
              "        action: 'continue',\n",
              "      }\n",
              "    };\n",
              "\n",
              "    // Use a chunked sending to avoid message size limits. See b/62115660.\n",
              "    let position = 0;\n",
              "    do {\n",
              "      const length = Math.min(fileData.byteLength - position, MAX_PAYLOAD_SIZE);\n",
              "      const chunk = new Uint8Array(fileData, position, length);\n",
              "      position += length;\n",
              "\n",
              "      const base64 = btoa(String.fromCharCode.apply(null, chunk));\n",
              "      yield {\n",
              "        response: {\n",
              "          action: 'append',\n",
              "          file: file.name,\n",
              "          data: base64,\n",
              "        },\n",
              "      };\n",
              "\n",
              "      let percentDone = fileData.byteLength === 0 ?\n",
              "          100 :\n",
              "          Math.round((position / fileData.byteLength) * 100);\n",
              "      percent.textContent = `${percentDone}% done`;\n",
              "\n",
              "    } while (position < fileData.byteLength);\n",
              "  }\n",
              "\n",
              "  // All done.\n",
              "  yield {\n",
              "    response: {\n",
              "      action: 'complete',\n",
              "    }\n",
              "  };\n",
              "}\n",
              "\n",
              "scope.google = scope.google || {};\n",
              "scope.google.colab = scope.google.colab || {};\n",
              "scope.google.colab._files = {\n",
              "  _uploadFiles,\n",
              "  _uploadFilesContinue,\n",
              "};\n",
              "})(self);\n",
              "</script> "
            ]
          },
          "metadata": {}
        },
        {
          "output_type": "stream",
          "name": "stdout",
          "text": [
            "Saving kaggle.json to kaggle.json\n",
            "Downloading dog-breed-identification.zip to /content\n",
            "100% 689M/691M [00:12<00:00, 61.9MB/s]\n",
            "100% 691M/691M [00:12<00:00, 56.3MB/s]\n",
            "                                 id             breed\n",
            "0  000bec180eb18c7604dcecc8fe0dba07       boston_bull\n",
            "1  001513dfcb2ffafc82cccf4d8bbaba97             dingo\n",
            "2  001cdf01b096e06d78e9e5112d419397          pekinese\n",
            "3  00214f311d5d2247d5dfe4fe24b2303d          bluetick\n",
            "4  0021f9ceb3235effd7fcde7f7538ed62  golden_retriever\n",
            "Total images loaded: 10222\n",
            "Training data shape: (8177, 128, 128, 3)\n",
            "Test data shape: (2045, 128, 128, 3)\n",
            "Training labels shape: (8177, 120)\n",
            "Test labels shape: (2045, 120)\n"
          ]
        }
      ]
    },
    {
      "cell_type": "markdown",
      "source": [
        "**Step 2 CNN Model Training**"
      ],
      "metadata": {
        "id": "zd24wSqb_-NN"
      }
    },
    {
      "cell_type": "code",
      "source": [
        "import tensorflow as tf\n",
        "from tensorflow.keras.preprocessing.image import ImageDataGenerator\n",
        "from tensorflow.keras.models import Sequential\n",
        "from tensorflow.keras.layers import Conv2D, MaxPooling2D, Flatten, Dense, Dropout\n",
        "import pandas as pd\n",
        "import numpy as np\n",
        "import os\n",
        "\n",
        "# Define paths\n",
        "train_dir = '/content/dog-breed-identification/train'\n",
        "labels_file = '/content/dog-breed-identification/labels.csv'\n",
        "\n",
        "# Load labels data\n",
        "labels_df = pd.read_csv(labels_file)\n",
        "labels_df['id'] = labels_df['id'] + '.jpg'  # Add .jpg extension\n",
        "print(labels_df.head())\n",
        "\n",
        "# Define the image size and batch size\n",
        "IMG_SIZE = 128\n",
        "BATCH_SIZE = 32\n",
        "\n",
        "# Ensure that the breed column contains string values\n",
        "labels_df['breed'] = labels_df['breed'].astype(str)\n",
        "\n",
        "# Data generators for loading images in batches\n",
        "train_datagen = ImageDataGenerator(\n",
        "    rescale=1.0/255.0,\n",
        "    validation_split=0.2  # Split the data into training and validation sets\n",
        ")\n",
        "\n",
        "train_generator = train_datagen.flow_from_dataframe(\n",
        "    dataframe=labels_df,\n",
        "    directory=train_dir,\n",
        "    x_col='id',\n",
        "    y_col='breed',\n",
        "    target_size=(IMG_SIZE, IMG_SIZE),\n",
        "    batch_size=BATCH_SIZE,\n",
        "    class_mode='categorical',\n",
        "    subset='training'  # Set as training data\n",
        ")\n",
        "\n",
        "validation_generator = train_datagen.flow_from_dataframe(\n",
        "    dataframe=labels_df,\n",
        "    directory=train_dir,\n",
        "    x_col='id',\n",
        "    y_col='breed',\n",
        "    target_size=(IMG_SIZE, IMG_SIZE),\n",
        "    batch_size=BATCH_SIZE,\n",
        "    class_mode='categorical',\n",
        "    subset='validation'  # Set as validation data\n",
        ")\n",
        "\n",
        "# Define the CNN model\n",
        "cnn_model = Sequential([\n",
        "    Conv2D(32, (3, 3), activation='relu', input_shape=(IMG_SIZE, IMG_SIZE, 3)),\n",
        "    MaxPooling2D((2, 2)),\n",
        "    Conv2D(64, (3, 3), activation='relu'),\n",
        "    MaxPooling2D((2, 2)),\n",
        "    Conv2D(128, (3, 3), activation='relu'),\n",
        "    MaxPooling2D((2, 2)),\n",
        "    Flatten(),\n",
        "    Dense(128, activation='relu'),\n",
        "    Dropout(0.5),\n",
        "    Dense(len(train_generator.class_indices), activation='softmax')\n",
        "])\n",
        "\n",
        "# Compile the model\n",
        "cnn_model.compile(optimizer='adam', loss='categorical_crossentropy', metrics=['accuracy'])\n",
        "\n",
        "# Train the model\n",
        "history = cnn_model.fit(\n",
        "    train_generator,\n",
        "    steps_per_epoch=train_generator.samples // BATCH_SIZE,\n",
        "    validation_data=validation_generator,\n",
        "    validation_steps=validation_generator.samples // BATCH_SIZE,\n",
        "    epochs=10\n",
        ")"
      ],
      "metadata": {
        "colab": {
          "base_uri": "https://localhost:8080/"
        },
        "id": "TWY0jmrRGmZo",
        "outputId": "4275ab57-1836-4544-e40e-4e47752f368b"
      },
      "execution_count": 3,
      "outputs": [
        {
          "output_type": "stream",
          "name": "stdout",
          "text": [
            "                                     id             breed\n",
            "0  000bec180eb18c7604dcecc8fe0dba07.jpg       boston_bull\n",
            "1  001513dfcb2ffafc82cccf4d8bbaba97.jpg             dingo\n",
            "2  001cdf01b096e06d78e9e5112d419397.jpg          pekinese\n",
            "3  00214f311d5d2247d5dfe4fe24b2303d.jpg          bluetick\n",
            "4  0021f9ceb3235effd7fcde7f7538ed62.jpg  golden_retriever\n",
            "Found 8178 validated image filenames belonging to 120 classes.\n",
            "Found 2044 validated image filenames belonging to 120 classes.\n",
            "Epoch 1/10\n",
            "255/255 [==============================] - 315s 1s/step - loss: 4.7899 - accuracy: 0.0096 - val_loss: 4.7797 - val_accuracy: 0.0114\n",
            "Epoch 2/10\n",
            "255/255 [==============================] - 288s 1s/step - loss: 4.7477 - accuracy: 0.0179 - val_loss: 4.6922 - val_accuracy: 0.0193\n",
            "Epoch 3/10\n",
            "255/255 [==============================] - 313s 1s/step - loss: 4.6429 - accuracy: 0.0207 - val_loss: 4.5966 - val_accuracy: 0.0193\n",
            "Epoch 4/10\n",
            "255/255 [==============================] - 290s 1s/step - loss: 4.5347 - accuracy: 0.0324 - val_loss: 4.5170 - val_accuracy: 0.0258\n",
            "Epoch 5/10\n",
            "255/255 [==============================] - 306s 1s/step - loss: 4.3963 - accuracy: 0.0506 - val_loss: 4.4645 - val_accuracy: 0.0461\n",
            "Epoch 6/10\n",
            "255/255 [==============================] - 308s 1s/step - loss: 4.2183 - accuracy: 0.0648 - val_loss: 4.4060 - val_accuracy: 0.0516\n",
            "Epoch 7/10\n",
            "255/255 [==============================] - 291s 1s/step - loss: 3.9763 - accuracy: 0.1005 - val_loss: 4.3899 - val_accuracy: 0.0590\n",
            "Epoch 8/10\n",
            "255/255 [==============================] - 315s 1s/step - loss: 3.6623 - accuracy: 0.1438 - val_loss: 4.4579 - val_accuracy: 0.0516\n",
            "Epoch 9/10\n",
            "255/255 [==============================] - 319s 1s/step - loss: 3.3247 - accuracy: 0.2045 - val_loss: 4.5547 - val_accuracy: 0.0506\n",
            "Epoch 10/10\n",
            "255/255 [==============================] - 295s 1s/step - loss: 2.9618 - accuracy: 0.2722 - val_loss: 4.6633 - val_accuracy: 0.0565\n"
          ]
        }
      ]
    },
    {
      "cell_type": "markdown",
      "source": [
        "Issues:\n",
        "Low Accuracy: Training accuracy reaches only 0.2722, and validation accuracy is 0.0565.\n",
        "High Loss: Training and validation loss remain high, indicating poor model performance.\n"
      ],
      "metadata": {
        "id": "3-spxCA6TVzN"
      }
    },
    {
      "cell_type": "markdown",
      "source": [
        "**Step 3 Model Training with Support Vector Machines (SVM) and KNN**"
      ],
      "metadata": {
        "id": "idnpi1B8AXw5"
      }
    },
    {
      "cell_type": "code",
      "source": [
        "import tensorflow as tf\n",
        "from tensorflow.keras.preprocessing.image import ImageDataGenerator\n",
        "from tensorflow.keras.models import Sequential\n",
        "from tensorflow.keras.layers import Conv2D, MaxPooling2D, Flatten, Dense, Dropout\n",
        "import pandas as pd\n",
        "import numpy as np\n",
        "import os\n",
        "from sklearn.svm import SVC\n",
        "from sklearn.metrics import accuracy_score, classification_report\n",
        "from sklearn.neighbors import KNeighborsClassifier\n",
        "\n",
        "# Define paths\n",
        "train_dir = '/content/dog-breed-identification/train'\n",
        "labels_file = '/content/dog-breed-identification/labels.csv'\n",
        "\n",
        "# Load labels data\n",
        "labels_df = pd.read_csv(labels_file)\n",
        "labels_df['id'] = labels_df['id'] + '.jpg'  # Add .jpg extension\n",
        "print(labels_df.head())\n",
        "\n",
        "# Define the image size and batch size\n",
        "IMG_SIZE = 128\n",
        "BATCH_SIZE = 32\n",
        "\n",
        "# Ensure that the breed column contains string values\n",
        "labels_df['breed'] = labels_df['breed'].astype(str)\n",
        "\n",
        "# Data generators for loading images in batches\n",
        "train_datagen = ImageDataGenerator(\n",
        "    rescale=1.0/255.0,\n",
        "    validation_split=0.2  # Split the data into training and validation sets\n",
        ")\n",
        "\n",
        "train_generator = train_datagen.flow_from_dataframe(\n",
        "    dataframe=labels_df,\n",
        "    directory=train_dir,\n",
        "    x_col='id',\n",
        "    y_col='breed',\n",
        "    target_size=(IMG_SIZE, IMG_SIZE),\n",
        "    batch_size=BATCH_SIZE,\n",
        "    class_mode='categorical',\n",
        "    subset='training'  # Set as training data\n",
        ")\n",
        "\n",
        "validation_generator = train_datagen.flow_from_dataframe(\n",
        "    dataframe=labels_df,\n",
        "    directory=train_dir,\n",
        "    x_col='id',\n",
        "    y_col='breed',\n",
        "    target_size=(IMG_SIZE, IMG_SIZE),\n",
        "    batch_size=BATCH_SIZE,\n",
        "    class_mode='categorical',\n",
        "    subset='validation'  # Set as validation data\n",
        ")\n",
        "\n",
        "\n",
        "# Flatten the images for simpler models\n",
        "def batch_generator(generator):\n",
        "    while True:\n",
        "        X_batch, y_batch = next(generator)\n",
        "        yield X_batch.reshape(len(X_batch), -1), np.argmax(y_batch, axis=1)\n",
        "\n",
        "# Smaller batch size to reduce memory usage\n",
        "SMALL_BATCH_SIZE = 256\n",
        "\n",
        "# Create batch generators\n",
        "train_batch_generator = batch_generator(train_generator)\n",
        "val_batch_generator = batch_generator(validation_generator)\n",
        "\n",
        "# Get a batch of training data\n",
        "X_train_flat, y_train = next(train_batch_generator)\n",
        "X_val_flat, y_val = next(val_batch_generator)\n",
        "\n",
        "# Train SVM model\n",
        "svm_model = SVC(kernel='linear')\n",
        "svm_model.fit(X_train_flat, y_train)\n",
        "\n",
        "# Validate SVM model\n",
        "y_pred_svm = svm_model.predict(X_val_flat)\n",
        "svm_accuracy = accuracy_score(y_val, y_pred_svm)\n",
        "print(f'SVM Accuracy: {svm_accuracy}')\n",
        "print(classification_report(y_val, y_pred_svm))\n",
        "\n",
        "# Train KNN model\n",
        "knn_model = KNeighborsClassifier(n_neighbors=5, n_jobs=-1)\n",
        "knn_model.fit(X_train_flat, y_train)\n",
        "\n",
        "# Validate KNN model\n",
        "y_pred_knn = knn_model.predict(X_val_flat)\n",
        "knn_accuracy = accuracy_score(y_val, y_pred_knn)\n",
        "print(f'KNN Accuracy: {knn_accuracy}')\n",
        "print(classification_report(y_val, y_pred_knn))"
      ],
      "metadata": {
        "colab": {
          "base_uri": "https://localhost:8080/"
        },
        "id": "XX6Lykc8ciHz",
        "outputId": "080c966b-1697-442b-e294-35267d277a23"
      },
      "execution_count": 8,
      "outputs": [
        {
          "output_type": "stream",
          "name": "stdout",
          "text": [
            "                                     id             breed\n",
            "0  000bec180eb18c7604dcecc8fe0dba07.jpg       boston_bull\n",
            "1  001513dfcb2ffafc82cccf4d8bbaba97.jpg             dingo\n",
            "2  001cdf01b096e06d78e9e5112d419397.jpg          pekinese\n",
            "3  00214f311d5d2247d5dfe4fe24b2303d.jpg          bluetick\n",
            "4  0021f9ceb3235effd7fcde7f7538ed62.jpg  golden_retriever\n",
            "Found 8178 validated image filenames belonging to 120 classes.\n",
            "Found 2044 validated image filenames belonging to 120 classes.\n",
            "SVM Accuracy: 0.0\n",
            "              precision    recall  f1-score   support\n",
            "\n",
            "           0       0.00      0.00      0.00       0.0\n",
            "           1       0.00      0.00      0.00       1.0\n",
            "           4       0.00      0.00      0.00       1.0\n",
            "           5       0.00      0.00      0.00       1.0\n",
            "           6       0.00      0.00      0.00       1.0\n",
            "          12       0.00      0.00      0.00       1.0\n",
            "          19       0.00      0.00      0.00       1.0\n",
            "          28       0.00      0.00      0.00       2.0\n",
            "          34       0.00      0.00      0.00       1.0\n",
            "          43       0.00      0.00      0.00       1.0\n",
            "          44       0.00      0.00      0.00       0.0\n",
            "          48       0.00      0.00      0.00       1.0\n",
            "          52       0.00      0.00      0.00       1.0\n",
            "          56       0.00      0.00      0.00       0.0\n",
            "          62       0.00      0.00      0.00       0.0\n",
            "          64       0.00      0.00      0.00       1.0\n",
            "          66       0.00      0.00      0.00       1.0\n",
            "          68       0.00      0.00      0.00       2.0\n",
            "          69       0.00      0.00      0.00       0.0\n",
            "          71       0.00      0.00      0.00       1.0\n",
            "          72       0.00      0.00      0.00       1.0\n",
            "          78       0.00      0.00      0.00       1.0\n",
            "          80       0.00      0.00      0.00       0.0\n",
            "          82       0.00      0.00      0.00       0.0\n",
            "          83       0.00      0.00      0.00       1.0\n",
            "          84       0.00      0.00      0.00       2.0\n",
            "          86       0.00      0.00      0.00       1.0\n",
            "          87       0.00      0.00      0.00       0.0\n",
            "          88       0.00      0.00      0.00       1.0\n",
            "          90       0.00      0.00      0.00       2.0\n",
            "          91       0.00      0.00      0.00       1.0\n",
            "          94       0.00      0.00      0.00       0.0\n",
            "         102       0.00      0.00      0.00       1.0\n",
            "         106       0.00      0.00      0.00       1.0\n",
            "         109       0.00      0.00      0.00       1.0\n",
            "         110       0.00      0.00      0.00       1.0\n",
            "         111       0.00      0.00      0.00       1.0\n",
            "\n",
            "    accuracy                           0.00      32.0\n",
            "   macro avg       0.00      0.00      0.00      32.0\n",
            "weighted avg       0.00      0.00      0.00      32.0\n",
            "\n"
          ]
        },
        {
          "output_type": "stream",
          "name": "stderr",
          "text": [
            "/usr/local/lib/python3.10/dist-packages/sklearn/metrics/_classification.py:1344: UndefinedMetricWarning: Precision and F-score are ill-defined and being set to 0.0 in labels with no predicted samples. Use `zero_division` parameter to control this behavior.\n",
            "  _warn_prf(average, modifier, msg_start, len(result))\n",
            "/usr/local/lib/python3.10/dist-packages/sklearn/metrics/_classification.py:1344: UndefinedMetricWarning: Recall and F-score are ill-defined and being set to 0.0 in labels with no true samples. Use `zero_division` parameter to control this behavior.\n",
            "  _warn_prf(average, modifier, msg_start, len(result))\n",
            "/usr/local/lib/python3.10/dist-packages/sklearn/metrics/_classification.py:1344: UndefinedMetricWarning: Precision and F-score are ill-defined and being set to 0.0 in labels with no predicted samples. Use `zero_division` parameter to control this behavior.\n",
            "  _warn_prf(average, modifier, msg_start, len(result))\n",
            "/usr/local/lib/python3.10/dist-packages/sklearn/metrics/_classification.py:1344: UndefinedMetricWarning: Recall and F-score are ill-defined and being set to 0.0 in labels with no true samples. Use `zero_division` parameter to control this behavior.\n",
            "  _warn_prf(average, modifier, msg_start, len(result))\n",
            "/usr/local/lib/python3.10/dist-packages/sklearn/metrics/_classification.py:1344: UndefinedMetricWarning: Precision and F-score are ill-defined and being set to 0.0 in labels with no predicted samples. Use `zero_division` parameter to control this behavior.\n",
            "  _warn_prf(average, modifier, msg_start, len(result))\n",
            "/usr/local/lib/python3.10/dist-packages/sklearn/metrics/_classification.py:1344: UndefinedMetricWarning: Recall and F-score are ill-defined and being set to 0.0 in labels with no true samples. Use `zero_division` parameter to control this behavior.\n",
            "  _warn_prf(average, modifier, msg_start, len(result))\n"
          ]
        },
        {
          "output_type": "stream",
          "name": "stdout",
          "text": [
            "KNN Accuracy: 0.0\n",
            "              precision    recall  f1-score   support\n",
            "\n",
            "           0       0.00      0.00      0.00       0.0\n",
            "           1       0.00      0.00      0.00       1.0\n",
            "           4       0.00      0.00      0.00       1.0\n",
            "           5       0.00      0.00      0.00       1.0\n",
            "           6       0.00      0.00      0.00       1.0\n",
            "          10       0.00      0.00      0.00       0.0\n",
            "          12       0.00      0.00      0.00       1.0\n",
            "          15       0.00      0.00      0.00       0.0\n",
            "          16       0.00      0.00      0.00       0.0\n",
            "          19       0.00      0.00      0.00       1.0\n",
            "          24       0.00      0.00      0.00       0.0\n",
            "          28       0.00      0.00      0.00       2.0\n",
            "          34       0.00      0.00      0.00       1.0\n",
            "          43       0.00      0.00      0.00       1.0\n",
            "          48       0.00      0.00      0.00       1.0\n",
            "          52       0.00      0.00      0.00       1.0\n",
            "          56       0.00      0.00      0.00       0.0\n",
            "          58       0.00      0.00      0.00       0.0\n",
            "          62       0.00      0.00      0.00       0.0\n",
            "          64       0.00      0.00      0.00       1.0\n",
            "          66       0.00      0.00      0.00       1.0\n",
            "          68       0.00      0.00      0.00       2.0\n",
            "          69       0.00      0.00      0.00       0.0\n",
            "          71       0.00      0.00      0.00       1.0\n",
            "          72       0.00      0.00      0.00       1.0\n",
            "          78       0.00      0.00      0.00       1.0\n",
            "          80       0.00      0.00      0.00       0.0\n",
            "          83       0.00      0.00      0.00       1.0\n",
            "          84       0.00      0.00      0.00       2.0\n",
            "          86       0.00      0.00      0.00       1.0\n",
            "          88       0.00      0.00      0.00       1.0\n",
            "          90       0.00      0.00      0.00       2.0\n",
            "          91       0.00      0.00      0.00       1.0\n",
            "         102       0.00      0.00      0.00       1.0\n",
            "         106       0.00      0.00      0.00       1.0\n",
            "         109       0.00      0.00      0.00       1.0\n",
            "         110       0.00      0.00      0.00       1.0\n",
            "         111       0.00      0.00      0.00       1.0\n",
            "\n",
            "    accuracy                           0.00      32.0\n",
            "   macro avg       0.00      0.00      0.00      32.0\n",
            "weighted avg       0.00      0.00      0.00      32.0\n",
            "\n"
          ]
        },
        {
          "output_type": "stream",
          "name": "stderr",
          "text": [
            "/usr/local/lib/python3.10/dist-packages/sklearn/metrics/_classification.py:1344: UndefinedMetricWarning: Precision and F-score are ill-defined and being set to 0.0 in labels with no predicted samples. Use `zero_division` parameter to control this behavior.\n",
            "  _warn_prf(average, modifier, msg_start, len(result))\n",
            "/usr/local/lib/python3.10/dist-packages/sklearn/metrics/_classification.py:1344: UndefinedMetricWarning: Recall and F-score are ill-defined and being set to 0.0 in labels with no true samples. Use `zero_division` parameter to control this behavior.\n",
            "  _warn_prf(average, modifier, msg_start, len(result))\n",
            "/usr/local/lib/python3.10/dist-packages/sklearn/metrics/_classification.py:1344: UndefinedMetricWarning: Precision and F-score are ill-defined and being set to 0.0 in labels with no predicted samples. Use `zero_division` parameter to control this behavior.\n",
            "  _warn_prf(average, modifier, msg_start, len(result))\n",
            "/usr/local/lib/python3.10/dist-packages/sklearn/metrics/_classification.py:1344: UndefinedMetricWarning: Recall and F-score are ill-defined and being set to 0.0 in labels with no true samples. Use `zero_division` parameter to control this behavior.\n",
            "  _warn_prf(average, modifier, msg_start, len(result))\n",
            "/usr/local/lib/python3.10/dist-packages/sklearn/metrics/_classification.py:1344: UndefinedMetricWarning: Precision and F-score are ill-defined and being set to 0.0 in labels with no predicted samples. Use `zero_division` parameter to control this behavior.\n",
            "  _warn_prf(average, modifier, msg_start, len(result))\n",
            "/usr/local/lib/python3.10/dist-packages/sklearn/metrics/_classification.py:1344: UndefinedMetricWarning: Recall and F-score are ill-defined and being set to 0.0 in labels with no true samples. Use `zero_division` parameter to control this behavior.\n",
            "  _warn_prf(average, modifier, msg_start, len(result))\n"
          ]
        }
      ]
    },
    {
      "cell_type": "markdown",
      "source": [
        "SVM Model:\n",
        "\n",
        "Accuracy: The SVM model achieved an accuracy of 0.0, indicating it failed to correctly classify any of the validation images.\n",
        "\n",
        "Precision, Recall, and F1-Score: All metrics are zero across all classes, which means the model did not make any correct predictions.\n",
        "\n",
        "Issues: The SVM model’s performance suggests it did not learn from the training data. Possible reasons include the high dimensionality of the flattened image data and the complexity of the dataset with 120 classes, which might be too challenging for a linear SVM without sufficient feature extraction.\n",
        "\n",
        "KNN Model:\n",
        "\n",
        "\n",
        "Accuracy: Similarly, the KNN model also achieved an accuracy of 0.0, failing to make any correct predictions on the validation data.\n",
        "\n",
        "Precision, Recall, and F1-Score: These metrics are also zero across all classes, indicating no correct classifications.\n",
        "\n",
        "Issues: The KNN model’s poor performance could be due to the same reasons as the SVM model. High-dimensional data and a large number of classes can make it difficult for KNN to find meaningful neighbors in the dataset."
      ],
      "metadata": {
        "id": "jbKAvpnEdTX6"
      }
    },
    {
      "cell_type": "code",
      "source": [
        "from sklearn.tree import DecisionTreeClassifier\n",
        "from sklearn.metrics import accuracy_score, classification_report\n",
        "import numpy as np\n",
        "\n",
        "\n",
        "X_train_flat = []\n",
        "y_train = []\n",
        "for i in range(len(train_generator)):\n",
        "    X_batch, y_batch = next(train_generator)\n",
        "    X_train_flat.append(X_batch.reshape(len(X_batch), -1))\n",
        "    y_train.append(np.argmax(y_batch, axis=1))\n",
        "\n",
        "X_train_flat = np.concatenate(X_train_flat, axis=0)\n",
        "y_train = np.concatenate(y_train, axis=0)\n",
        "\n",
        "\n",
        "X_val_flat = []\n",
        "y_val = []\n",
        "for i in range(len(validation_generator)):\n",
        "    X_batch, y_batch = next(validation_generator)\n",
        "    X_val_flat.append(X_batch.reshape(len(X_batch), -1))\n",
        "    y_val.append(np.argmax(y_batch, axis=1))\n",
        "\n",
        "X_val_flat = np.concatenate(X_val_flat, axis=0)\n",
        "y_val = np.concatenate(y_val, axis=0)\n",
        "\n",
        "\n",
        "dt_model = DecisionTreeClassifier()\n",
        "dt_model.fit(X_train_flat, y_train)\n",
        "\n",
        "\n",
        "y_pred_dt = dt_model.predict(X_val_flat)\n",
        "dt_accuracy = accuracy_score(y_val, y_pred_dt)\n",
        "print(f\"Decision Tree Accuracy: {dt_accuracy}\")\n",
        "print(classification_report(y_val, y_pred_dt))"
      ],
      "metadata": {
        "id": "vyt8-mLje9CB"
      },
      "execution_count": null,
      "outputs": []
    },
    {
      "cell_type": "markdown",
      "source": [
        "Unfortunately, I didn't get enough time to run the decision tree model, it just takes too much time....\n",
        "\n",
        "Overall, the CNN model demonstrates the best performance for both datasets, highlighting its suitability for image classification tasks."
      ],
      "metadata": {
        "id": "WhqOiRT2iDxn"
      }
    },
    {
      "cell_type": "code",
      "source": [],
      "metadata": {
        "id": "CMOS-xzQhdV0"
      },
      "execution_count": null,
      "outputs": []
    }
  ]
}